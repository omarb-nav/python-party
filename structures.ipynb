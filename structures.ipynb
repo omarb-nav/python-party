{
 "nbformat": 4,
 "nbformat_minor": 2,
 "metadata": {
  "language_info": {
   "name": "python",
   "codemirror_mode": {
    "name": "ipython",
    "version": 3
   },
   "version": "3.7.6"
  },
  "orig_nbformat": 2,
  "file_extension": ".py",
  "mimetype": "text/x-python",
  "name": "python",
  "npconvert_exporter": "python",
  "pygments_lexer": "ipython3",
  "version": 3
 },
 "cells": [
  {
   "cell_type": "markdown",
   "execution_count": null,
   "metadata": {},
   "outputs": [],
   "source": [
    "1. lists:"
   ]
  },
  {
   "cell_type": "code",
   "execution_count": 2,
   "metadata": {},
   "outputs": [
    {
     "name": "stdout",
     "output_type": "stream",
     "text": "first name\n"
    },
    {
     "data": {
      "text/plain": "['first name', 'last name', 10, True, 'new item']"
     },
     "execution_count": 2,
     "metadata": {},
     "output_type": "execute_result"
    }
   ],
   "source": [
    "my_list=['first name','last name', 10 , True]\n",
    "print(my_list[0])\n",
    "my_list.append('new item')\n",
    "my_list"
   ]
  },
  {
   "cell_type": "markdown",
   "execution_count": null,
   "metadata": {},
   "outputs": [],
   "source": [
    "2. tuples:"
   ]
  },
  {
   "cell_type": "code",
   "execution_count": 4,
   "metadata": {},
   "outputs": [
    {
     "name": "stdout",
     "output_type": "stream",
     "text": "first name\n"
    },
    {
     "data": {
      "text/plain": "('first name', 'last name', 10, True)"
     },
     "execution_count": 4,
     "metadata": {},
     "output_type": "execute_result"
    }
   ],
   "source": [
    "# tuples are immutable \n",
    "my_tuple=('first name','last name', 10 , True)\n",
    "print(my_tuple[0])\n",
    "my_tuple"
   ]
  },
  {
   "cell_type": "markdown",
   "execution_count": null,
   "metadata": {},
   "outputs": [],
   "source": [
    "3. dictionaries"
   ]
  },
  {
   "cell_type": "code",
   "execution_count": 9,
   "metadata": {},
   "outputs": [
    {
     "name": "stdout",
     "output_type": "stream",
     "text": "john\n{'first name': 'john', 'last name': 'doe', 'age': 10, 'isHuman': True, 'new key': 'new value'}\n"
    }
   ],
   "source": [
    "my_dict={'first name':'john','last name':'doe', \"age\": 10 , \"isHuman\":True}\n",
    "print(my_dict[\"first name\"])\n",
    "my_dict[\"new key\"]='new value'\n",
    "print(my_dict)"
   ]
  },
  {
   "cell_type": "markdown",
   "execution_count": null,
   "metadata": {},
   "outputs": [],
   "source": [
    "4. sets"
   ]
  },
  {
   "cell_type": "code",
   "execution_count": null,
   "metadata": {},
   "outputs": [],
   "source": [
    "my_set={'first name','last name', 10 , True}"
   ]
  }
 ]
}